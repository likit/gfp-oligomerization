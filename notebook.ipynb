{
 "metadata": {
  "name": "",
  "signature": "sha256:c2f3a08c61b36ba89d6cbb7837871126bcce7fc8c5bb5d05053dca4ae7b5dd55"
 },
 "nbformat": 3,
 "nbformat_minor": 0,
 "worksheets": [
  {
   "cells": [
    {
     "cell_type": "code",
     "collapsed": false,
     "input": [
      "import Bio.motifs"
     ],
     "language": "python",
     "metadata": {},
     "outputs": [],
     "prompt_number": 1
    },
    {
     "cell_type": "code",
     "collapsed": false,
     "input": [
      "record = Bio.motifs.parse(open('all-motifs/meme.txt'), 'meme')  # load meme output"
     ],
     "language": "python",
     "metadata": {},
     "outputs": [],
     "prompt_number": 2
    },
    {
     "cell_type": "code",
     "collapsed": false,
     "input": [
      "len(record)  # get the total number of motifs"
     ],
     "language": "python",
     "metadata": {},
     "outputs": [
      {
       "metadata": {},
       "output_type": "pyout",
       "prompt_number": 20,
       "text": [
        "20"
       ]
      }
     ],
     "prompt_number": 20
    },
    {
     "cell_type": "code",
     "collapsed": false,
     "input": [
      "# select motifs found in at least 300 sites\n",
      "select_motifs = []\n",
      "for motif in record:\n",
      "    if len(motif.instances) > 300:\n",
      "        select_motifs.append(motif)"
     ],
     "language": "python",
     "metadata": {},
     "outputs": [],
     "prompt_number": 4
    },
    {
     "cell_type": "code",
     "collapsed": false,
     "input": [
      "# select sequences that contain all select motifs\n",
      "sequences = {}\n",
      "for motif in select_motifs:\n",
      "    for inst in motif.instances:\n",
      "        sequences[inst.sequence_name] = sequences.get(inst.sequence_name, 0) + 1\n",
      "        \n",
      "select_sequences = set([seq for seq, count in sequences.iteritems() if count == len(select_motifs)])"
     ],
     "language": "python",
     "metadata": {},
     "outputs": [],
     "prompt_number": 19
    },
    {
     "cell_type": "code",
     "collapsed": false,
     "input": [
      "# write motifs from all sequences to separate files\n",
      "for motif in select_motifs:\n",
      "    outfile = open('%s.fa' % motif.name.replace(' ', '-'), 'w')\n",
      "    for inst in motif.instances:\n",
      "        if inst.sequence_name in select_sequences:\n",
      "            outfile.write('>%s\\n%s\\n' % (inst.sequence_name, str(inst)))\n",
      "    outfile.close()"
     ],
     "language": "python",
     "metadata": {},
     "outputs": [],
     "prompt_number": 18
    }
   ],
   "metadata": {}
  }
 ]
}